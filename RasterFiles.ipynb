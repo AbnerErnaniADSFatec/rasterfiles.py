{
 "cells": [
  {
   "cell_type": "code",
   "execution_count": 2,
   "metadata": {},
   "outputs": [],
   "source": [
    "import rasterio\n",
    "import rasterstats\n",
    "from stac import STAC"
   ]
  },
  {
   "cell_type": "code",
   "execution_count": 3,
   "metadata": {},
   "outputs": [],
   "source": [
    "from rasterstats import zonal_stats, point_query"
   ]
  },
  {
   "cell_type": "code",
   "execution_count": 4,
   "metadata": {},
   "outputs": [],
   "source": [
    "stac_client = STAC('http://brazildatacube.dpi.inpe.br/bdc-stac/0.8.0/')"
   ]
  },
  {
   "cell_type": "code",
   "execution_count": 5,
   "metadata": {},
   "outputs": [],
   "source": [
    "collection = stac_client.collection('C4_64_16D_MED')"
   ]
  },
  {
   "cell_type": "code",
   "execution_count": 6,
   "metadata": {},
   "outputs": [],
   "source": [
    "items = collection.get_items()"
   ]
  },
  {
   "cell_type": "code",
   "execution_count": 7,
   "metadata": {},
   "outputs": [],
   "source": [
    "red = items.features[0].assets['red'].download()"
   ]
  },
  {
   "cell_type": "code",
   "execution_count": 8,
   "metadata": {},
   "outputs": [
    {
     "data": {
      "text/plain": [
       "array([[413, 418, 420, ..., 817, 729, 706],\n",
       "       [420, 423, 422, ..., 831, 761, 702],\n",
       "       [423, 414, 406, ..., 853, 786, 698],\n",
       "       ...,\n",
       "       [774, 808, 703, ..., 717, 717, 629],\n",
       "       [768, 775, 672, ..., 755, 721, 661],\n",
       "       [685, 627, 586, ..., 745, 714, 669]], dtype=int16)"
      ]
     },
     "execution_count": 8,
     "metadata": {},
     "output_type": "execute_result"
    }
   ],
   "source": [
    "rasterio.open(red).read(1)"
   ]
  },
  {
   "cell_type": "code",
   "execution_count": 9,
   "metadata": {},
   "outputs": [],
   "source": [
    "stats = zonal_stats('data/br-uf/BRUFE250GC_SIR.shp', red)"
   ]
  },
  {
   "cell_type": "code",
   "execution_count": 10,
   "metadata": {},
   "outputs": [
    {
     "name": "stdout",
     "output_type": "stream",
     "text": [
      "[{'count': 0, 'max': None, 'mean': None, 'min': None},\n",
      " {'count': 0, 'max': None, 'mean': None, 'min': None},\n",
      " {'count': 0, 'max': None, 'mean': None, 'min': None},\n",
      " {'count': 0, 'max': None, 'mean': None, 'min': None},\n",
      " {'count': 0, 'max': None, 'mean': None, 'min': None},\n",
      " {'count': 0, 'max': None, 'mean': None, 'min': None},\n",
      " {'count': 0, 'max': None, 'mean': None, 'min': None},\n",
      " {'count': 0, 'max': None, 'mean': None, 'min': None},\n",
      " {'count': 0, 'max': None, 'mean': None, 'min': None},\n",
      " {'count': 0, 'max': None, 'mean': None, 'min': None},\n",
      " {'count': 0, 'max': None, 'mean': None, 'min': None},\n",
      " {'count': 0, 'max': None, 'mean': None, 'min': None},\n",
      " {'count': 0, 'max': None, 'mean': None, 'min': None},\n",
      " {'count': 0, 'max': None, 'mean': None, 'min': None},\n",
      " {'count': 0, 'max': None, 'mean': None, 'min': None},\n",
      " {'count': 0, 'max': None, 'mean': None, 'min': None},\n",
      " {'count': 0, 'max': None, 'mean': None, 'min': None},\n",
      " {'count': 0, 'max': None, 'mean': None, 'min': None},\n",
      " {'count': 0, 'max': None, 'mean': None, 'min': None},\n",
      " {'count': 0, 'max': None, 'mean': None, 'min': None},\n",
      " {'count': 0, 'max': None, 'mean': None, 'min': None},\n",
      " {'count': 0, 'max': None, 'mean': None, 'min': None},\n",
      " {'count': 0, 'max': None, 'mean': None, 'min': None},\n",
      " {'count': 0, 'max': None, 'mean': None, 'min': None},\n",
      " {'count': 0, 'max': None, 'mean': None, 'min': None},\n",
      " {'count': 0, 'max': None, 'mean': None, 'min': None},\n",
      " {'count': 0, 'max': None, 'mean': None, 'min': None}]\n"
     ]
    }
   ],
   "source": [
    "from pprint import pprint\n",
    "pprint(stats)"
   ]
  }
 ],
 "metadata": {
  "kernelspec": {
   "display_name": "raster-files",
   "language": "python",
   "name": "raster-files"
  },
  "language_info": {
   "codemirror_mode": {
    "name": "ipython",
    "version": 3
   },
   "file_extension": ".py",
   "mimetype": "text/x-python",
   "name": "python",
   "nbconvert_exporter": "python",
   "pygments_lexer": "ipython3",
   "version": "3.8.0"
  }
 },
 "nbformat": 4,
 "nbformat_minor": 4
}
